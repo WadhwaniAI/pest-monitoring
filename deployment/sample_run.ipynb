{
 "cells": [
  {
   "cell_type": "code",
   "execution_count": 1,
   "id": "a9ab2905-d0df-4cf5-a4de-48444c891dc2",
   "metadata": {},
   "outputs": [],
   "source": [
    "import torch\n",
    "import torchvision\n",
    "\n",
    "import os\n",
    "import numpy as np\n",
    "from PIL import Image\n",
    "from src.data.transforms import Compose, Resize, ToTensor\n",
    "from collections import defaultdict\n",
    "from tqdm import tqdm\n",
    "import pandas as pd"
   ]
  },
  {
   "cell_type": "code",
   "execution_count": 2,
   "id": "47639d67-f8a9-4a1b-84f1-fbd99c6181fc",
   "metadata": {},
   "outputs": [],
   "source": [
    "jit_path = '/data/jit-checkpoints/basev3-freeze-jit-v6.pt'"
   ]
  },
  {
   "cell_type": "code",
   "execution_count": 3,
   "id": "b6b808d1-2f72-4b5d-912c-f1ae26100620",
   "metadata": {},
   "outputs": [],
   "source": [
    "model = torch.jit.load(jit_path)"
   ]
  },
  {
   "cell_type": "code",
   "execution_count": 4,
   "id": "60836fb8-ec5e-4309-865d-eb12c867b2c0",
   "metadata": {},
   "outputs": [],
   "source": [
    "base_path = '/workspace/pest-monitoring-new/deployment/sample_images/'\n",
    "image_paths = os.listdir('sample_images/')"
   ]
  },
  {
   "cell_type": "code",
   "execution_count": 5,
   "id": "867d7132-ced0-4cf0-b3f4-1c86c448866a",
   "metadata": {},
   "outputs": [],
   "source": [
    "transform_pipeline = Compose(transforms = [Resize(512, 512), ToTensor()])"
   ]
  },
  {
   "cell_type": "code",
   "execution_count": 6,
   "id": "0d92fcf2-274b-4f9d-b3f7-fc1ec18b0dd6",
   "metadata": {},
   "outputs": [
    {
     "name": "stderr",
     "output_type": "stream",
     "text": [
      "100%|███████████████████████████████████████████| 19/19 [00:05<00:00,  3.48it/s]\n"
     ]
    }
   ],
   "source": [
    "detections = defaultdict(list)\n",
    "output = []\n",
    "for i, path_ in enumerate(tqdm(image_paths)):\n",
    "    path = os.path.join(base_path, path_)\n",
    "    im_tensor = transform_pipeline(\n",
    "        np.asarray(Image.open(path).convert(\"RGB\")).astype(np.float32)\n",
    "    )[0].unsqueeze(0)\n",
    "    \n",
    "    val_out, abw_boxes, pbw_boxes, abw_scores, pbw_scores = model(im_tensor)\n",
    "    detections['path'].append(path_)\n",
    "    detections['val_out'].append(val_out)\n",
    "    detections['abw_boxes'].append(abw_boxes.shape[0])\n",
    "    detections['pbw_boxes'].append(pbw_boxes.shape[0])\n",
    "    detections['abw_scores'].append(abw_scores)\n",
    "    detections['pbw_scores'].append(pbw_scores)"
   ]
  },
  {
   "cell_type": "code",
   "execution_count": 7,
   "id": "36413092-cd88-4cb5-a794-6a5ac9a6b211",
   "metadata": {},
   "outputs": [],
   "source": [
    "df = pd.DataFrame.from_dict(detections)[['path', 'abw_boxes', 'pbw_boxes']]"
   ]
  },
  {
   "cell_type": "code",
   "execution_count": null,
   "id": "5dddb873-bbb6-441c-b971-9eb90883507d",
   "metadata": {},
   "outputs": [],
   "source": [
    "df"
   ]
  },
  {
   "cell_type": "code",
   "execution_count": null,
   "id": "04096b46-d597-4320-bea6-3bd7e9a21f6c",
   "metadata": {},
   "outputs": [],
   "source": [
    "df_ = pd.read_csv('cfssd_2.5.csv')[['image_name', 'num_abw', 'num_pbw']]"
   ]
  },
  {
   "cell_type": "code",
   "execution_count": null,
   "id": "d19476ac-0372-44bf-a771-354a52e0b63e",
   "metadata": {},
   "outputs": [],
   "source": [
    "df_.merge(df, left_on = 'image_name', right_on = 'path')"
   ]
  },
  {
   "cell_type": "code",
   "execution_count": null,
   "id": "9851aefa-ece4-4423-a56d-9b4120fbb9ff",
   "metadata": {},
   "outputs": [],
   "source": []
  }
 ],
 "metadata": {
  "kernelspec": {
   "display_name": "Python 3 (ipykernel)",
   "language": "python",
   "name": "python3"
  },
  "language_info": {
   "codemirror_mode": {
    "name": "ipython",
    "version": 3
   },
   "file_extension": ".py",
   "mimetype": "text/x-python",
   "name": "python",
   "nbconvert_exporter": "python",
   "pygments_lexer": "ipython3",
   "version": "3.8.10"
  }
 },
 "nbformat": 4,
 "nbformat_minor": 5
}
