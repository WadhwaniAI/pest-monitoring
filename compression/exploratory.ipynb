{
 "cells": [
  {
   "cell_type": "code",
   "execution_count": 1,
   "id": "171627cb-466a-4ab4-896c-f8eda14f4d9a",
   "metadata": {},
   "outputs": [
    {
     "name": "stderr",
     "output_type": "stream",
     "text": [
      "/usr/local/lib/python3.8/dist-packages/hydra/_internal/defaults_list.py:251: UserWarning: In 'compress/summer-deployment/cfvgg19/basev3-agp.yaml': Defaults list is missing `_self_`. See https://hydra.cc/docs/upgrades/1.0_to_1.1/default_composition_order for more information\n",
      "  warnings.warn(msg, UserWarning)\n"
     ]
    }
   ],
   "source": [
    "import torch\n",
    "from hydra.utils import instantiate\n",
    "from hydra import compose, initialize\n",
    "from nni.compression.pytorch.utils.shape_dependency import ChannelDependency\n",
    "from pytorch_lightning.utilities.memory import get_model_size_mb\n",
    "\n",
    "# GlobalHydra.instance().clear()\n",
    "config_name = 'compress/summer-deployment/cfvgg19/basev3-agp.yaml'\n",
    "with initialize(config_path=\"../configs/\", job_name=\"test_app\"):\n",
    "    config = compose(config_name=config_name, overrides=[])"
   ]
  },
  {
   "cell_type": "code",
   "execution_count": 2,
   "id": "4681fc54-53b8-4d8e-b50c-3c1b3fec6744",
   "metadata": {},
   "outputs": [],
   "source": [
    "model = instantiate(config.model, model_config = config.model, _recursive_=False)\n",
    "datamodule = instantiate(config.datamodule, data_config=config.datamodule, _recursive_=False)\n",
    "datamodule.setup()"
   ]
  },
  {
   "cell_type": "code",
   "execution_count": 3,
   "id": "e52fc3f8-3463-4f53-b9f6-27b3df6aac46",
   "metadata": {},
   "outputs": [
    {
     "name": "stdout",
     "output_type": "stream",
     "text": [
      "Original Model Size: 150.23029\n"
     ]
    }
   ],
   "source": [
    "print (f'Original Model Size: {get_model_size_mb(model.network)}')"
   ]
  },
  {
   "cell_type": "code",
   "execution_count": 4,
   "id": "c3c9c1f3-d659-48c5-92cb-0d32fd61e432",
   "metadata": {},
   "outputs": [],
   "source": [
    "# Init Pruner\n",
    "ckpt_PATH = '/output/experiments/summer-deployment/cfvgg19/basev3.yaml/checkpoints/epoch=382.ckpt'\n",
    "pruner = instantiate(config.pruner, model=model, datamodule=datamodule, start_ckpt_path=ckpt_PATH)"
   ]
  },
  {
   "cell_type": "code",
   "execution_count": 5,
   "id": "66e9c782-d68f-4427-ae12-8c4cc4d4c9ae",
   "metadata": {},
   "outputs": [
    {
     "name": "stdout",
     "output_type": "stream",
     "text": [
      "[2022-05-11 09:25:22] INFO (compression.iterative_pruners/MainThread) Using AGPPruner with Pruning Algorithm: l2\n",
      "[2022-05-11 09:25:23] WARNING (nni.algorithms.compression.v2.pytorch.base.compressor/MainThread) This compressor is not set model and config_list, waiting for reset() or pass this to scheduler.\n"
     ]
    }
   ],
   "source": [
    "pruner.setup()"
   ]
  },
  {
   "cell_type": "code",
   "execution_count": 1,
   "id": "5e093326-690c-4fa5-93e2-1f229e1e777b",
   "metadata": {
    "tags": []
   },
   "outputs": [],
   "source": [
    "# pruner.run()"
   ]
  },
  {
   "cell_type": "code",
   "execution_count": 11,
   "id": "8f17370c-61b9-4269-818b-e75ad33c499c",
   "metadata": {},
   "outputs": [
    {
     "name": "stdout",
     "output_type": "stream",
     "text": [
      "Compressed Model Size: 7.955301\n"
     ]
    }
   ],
   "source": [
    "print (f'Compressed Model Size: {get_model_size_mb(model.network)}')"
   ]
  },
  {
   "cell_type": "code",
   "execution_count": null,
   "id": "c895fa4d-a099-4caa-9072-6167b6ed7ddc",
   "metadata": {},
   "outputs": [],
   "source": []
  },
  {
   "cell_type": "code",
   "execution_count": null,
   "id": "529267eb-161e-4024-a00d-dfba11fb25a8",
   "metadata": {},
   "outputs": [],
   "source": []
  }
 ],
 "metadata": {
  "kernelspec": {
   "display_name": "Python 3 (ipykernel)",
   "language": "python",
   "name": "python3"
  },
  "language_info": {
   "codemirror_mode": {
    "name": "ipython",
    "version": 3
   },
   "file_extension": ".py",
   "mimetype": "text/x-python",
   "name": "python",
   "nbconvert_exporter": "python",
   "pygments_lexer": "ipython3",
   "version": "3.8.10"
  }
 },
 "nbformat": 4,
 "nbformat_minor": 5
}
