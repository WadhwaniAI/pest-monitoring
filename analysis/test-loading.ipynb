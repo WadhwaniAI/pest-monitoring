{
 "cells": [
  {
   "cell_type": "markdown",
   "id": "1cd0d0f3-b31c-48cd-aeda-f72208166217",
   "metadata": {},
   "source": [
    "### Experiment Notebook\n",
    "This notebook shows how we can load different components for testing"
   ]
  },
  {
   "cell_type": "code",
   "execution_count": 1,
   "id": "5dcb834a",
   "metadata": {},
   "outputs": [
    {
     "name": "stderr",
     "output_type": "stream",
     "text": [
      "/usr/local/lib/python3.8/dist-packages/hydra/_internal/defaults_list.py:251: UserWarning: In 'defaults/ssd/cfvgg16-size512.yaml': Defaults list is missing `_self_`. See https://hydra.cc/docs/upgrades/1.0_to_1.1/default_composition_order for more information\n",
      "  warnings.warn(msg, UserWarning)\n"
     ]
    }
   ],
   "source": [
    "from hydra import compose, initialize\n",
    "from hydra.utils import instantiate\n",
    "\n",
    "# GlobalHydra.instance().clear()\n",
    "config_name = 'defaults/ssd/cfvgg16-size512.yaml'\n",
    "with initialize(config_path=\"../configs/\", job_name=\"test_app\"):\n",
    "    config = compose(config_name=config_name, overrides=[])"
   ]
  },
  {
   "cell_type": "code",
   "execution_count": 2,
   "id": "7a884f8e",
   "metadata": {},
   "outputs": [],
   "source": [
    "datamodule = instantiate(config.datamodule, data_config=config.datamodule, _recursive_=False)"
   ]
  },
  {
   "cell_type": "code",
   "execution_count": 3,
   "id": "e147fe53",
   "metadata": {},
   "outputs": [],
   "source": [
    "model = instantiate(config.model, model_config = config.model, _recursive_=False)"
   ]
  },
  {
   "cell_type": "code",
   "execution_count": null,
   "id": "8b164392",
   "metadata": {},
   "outputs": [],
   "source": []
  }
 ],
 "metadata": {
  "kernelspec": {
   "display_name": "Python 3 (ipykernel)",
   "language": "python",
   "name": "python3"
  },
  "language_info": {
   "codemirror_mode": {
    "name": "ipython",
    "version": 3
   },
   "file_extension": ".py",
   "mimetype": "text/x-python",
   "name": "python",
   "nbconvert_exporter": "python",
   "pygments_lexer": "ipython3",
   "version": "3.8.12"
  }
 },
 "nbformat": 4,
 "nbformat_minor": 5
}
